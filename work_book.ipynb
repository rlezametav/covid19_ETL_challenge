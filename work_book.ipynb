{
 "cells": [
  {
   "cell_type": "markdown",
   "id": "482558ac-ff48-4869-bd62-943fb06f5dbc",
   "metadata": {},
   "source": [
    "# COVID 19 ETL"
   ]
  },
  {
   "cell_type": "markdown",
   "id": "f772ffed-b9c4-442f-a116-c9568fd61fc1",
   "metadata": {},
   "source": [
    "## 1- Importando funciones y clases"
   ]
  },
  {
   "cell_type": "code",
   "execution_count": 118,
   "id": "ca3fa7bc-acbc-497a-829a-271d4d3d2e1e",
   "metadata": {
    "tags": []
   },
   "outputs": [],
   "source": [
    "from pyspark.sql import SparkSession\n",
    "from pyspark.sql.types import StructField, StructType, StringType\n",
    "from pyspark.sql.functions import max, col, expr, when, isnan, lower, explode, dayofmonth, month, year, lpad, lit, coalesce\n",
    "from pyspark.sql import DataFrame\n",
    "\n",
    "from pydeequ.checks import Check, CheckLevel, ConstrainableDataTypes\n",
    "from pydeequ.verification import VerificationResult, VerificationSuite\n",
    "from pydeequ.analyzers import *\n",
    "\n",
    "import json\n",
    "import pandas as pd\n",
    "import datetime"
   ]
  },
  {
   "cell_type": "markdown",
   "id": "fc2b0ebf-2cbe-41a4-bccc-6a95e73a9f40",
   "metadata": {},
   "source": [
    "## 2- Definiendo la sesión de Spark\n",
    "\n",
    "<code><b>DEQUU</b></code>: Deequ es una biblioteca construida sobre Apache Spark para definir \"pruebas unitarias para datos\", que miden la calidad de los datos en grandes conjuntos de datos. (PyDeequ es una interface para Dequu en Python)  \n",
    "<code><b>HUDI</b></code>: Apache Hudi (pronunciado Hoodie) significa Hadoop Upserts Deletes and Incrementals. Hudi administra el almacenamiento de grandes conjuntos de datos analíticos en DFS (almacenes en la nube, HDFS, etc)"
   ]
  },
  {
   "cell_type": "code",
   "execution_count": 2,
   "id": "28c717ff-28da-41b6-8e16-85cccbb4ba62",
   "metadata": {},
   "outputs": [],
   "source": [
    "PYDEEQU = 'jars/deequ-2.0.0-spark-3.1.jar'\n",
    "HUDI = 'jars/hudi-spark3.1.2-bundle_2.12-0.10.1.jar'"
   ]
  },
  {
   "cell_type": "markdown",
   "id": "39e9311f-e310-441d-994e-b3ec5c974060",
   "metadata": {},
   "source": [
    "<code>Hudi</code> nos permitira hacer un manejo mas eficiente de los deltas de datos (SCD)"
   ]
  },
  {
   "cell_type": "code",
   "execution_count": 3,
   "id": "e9ea465d-f611-4231-ac2a-255278e0a902",
   "metadata": {
    "tags": []
   },
   "outputs": [
    {
     "name": "stderr",
     "output_type": "stream",
     "text": [
      "WARNING: An illegal reflective access operation has occurred\n",
      "WARNING: Illegal reflective access by org.apache.spark.unsafe.Platform (file:/usr/local/spark-3.1.2-bin-hadoop3.2/jars/spark-unsafe_2.12-3.1.2.jar) to constructor java.nio.DirectByteBuffer(long,int)\n",
      "WARNING: Please consider reporting this to the maintainers of org.apache.spark.unsafe.Platform\n",
      "WARNING: Use --illegal-access=warn to enable warnings of further illegal reflective access operations\n",
      "WARNING: All illegal access operations will be denied in a future release\n",
      "23/01/10 20:49:14 WARN NativeCodeLoader: Unable to load native-hadoop library for your platform... using builtin-java classes where applicable\n",
      "Using Spark's default log4j profile: org/apache/spark/log4j-defaults.properties\n",
      "Setting default log level to \"WARN\".\n",
      "To adjust logging level use sc.setLogLevel(newLevel). For SparkR, use setLogLevel(newLevel).\n"
     ]
    }
   ],
   "source": [
    "spark = SparkSession \\\n",
    "    .builder \\\n",
    "    .appName(\"Python Spark basic example\") \\\n",
    "    .config(\"spark.jars\", f'{PYDEEQU},{HUDI}') \\\n",
    "    .config(\"spark.driver.memory\", \"12g\") \\\n",
    "    .config(\"spark.sql.execution.arrow.pyspark.enabled\", \"true\") \\\n",
    "    .config(\"spark.driver.maxResultSize\", \"4g\") \\\n",
    "    .config(\"spark.sql.sources.partitionOverwriteMode\", \"dynamic\") \\\n",
    "    .config(\"spark.serializer\", \"org.apache.spark.serializer.KryoSerializer\") \\\n",
    "    .config(\"spark.sql.hive.convertMetastoreParquet\", \"false\") \\\n",
    "    .getOrCreate()\n",
    "\n",
    "spark.sparkContext.setLogLevel(\"ERROR\")"
   ]
  },
  {
   "cell_type": "markdown",
   "id": "b3cab316-836c-40f9-b640-dc4ed738d93a",
   "metadata": {},
   "source": [
    "## 3- Definiendo funciones y clases a utilizar"
   ]
  },
  {
   "cell_type": "code",
   "execution_count": 36,
   "id": "b4f4e5e2-b384-411a-aaa9-96280f808399",
   "metadata": {},
   "outputs": [],
   "source": [
    "class RddOperations:\n",
    "    def __init__(self):\n",
    "        pass\n",
    "        \n",
    "    def readCsvFileToRDD(self, path, sep=','):\n",
    "        rddFromFile = spark.sparkContext.textFile(path)\n",
    "        rddCentralMap = rddFromFile.map(\n",
    "            lambda line: line.split(sep)\n",
    "        )\n",
    "        return rddCentralMap\n",
    "    \n",
    "    def RDDToDF(self, RDD, skip_head=True):\n",
    "        dfFields = RDD.first()\n",
    "        dfSchema = StructType([StructField(field_name, StringType(), True) for field_name in dfFields])\n",
    "        if skip_head:\n",
    "            RDD = rddCentralMap.zipWithIndex().filter(lambda kv: kv[1] > 2).keys()\n",
    "        df = spark.createDataFrame(RDD, dfSchema)\n",
    "        return df\n",
    "        # df.write.parquet(\n",
    "        #     path,\n",
    "        #     mode='overwrite',\n",
    "        #     compression='snappy'\n",
    "        # )\n",
    "        \n",
    "\n",
    "# función mas eficiente que el plan de ejecución de .withColumn()\n",
    "def withColumnOptimized(df: DataFrame, colExpr: str, name: str) -> DataFrame:\n",
    "    columns = df.columns\n",
    "    try:\n",
    "        columns.remove(name)\n",
    "    except ValueError:\n",
    "        pass\n",
    "    \n",
    "    if type(colExpr) == str:\n",
    "        columns_ = columns + [expr(colExpr).alias(name)]\n",
    "    else:\n",
    "        columns_ = columns + [colExpr.alias(name)]\n",
    "\n",
    "    return df.select(*columns_)\n",
    "\n",
    "def applyStructToDF(df: DataFrame, structSchema: StructType) -> DataFrame:\n",
    "    for schema in structSchema:\n",
    "        logic = when(\n",
    "            isnan(col(schema.name)), \n",
    "            None\n",
    "        ).otherwise(col(schema.name).cast(schema.dataType))\n",
    "        df = withColumnOptimized(df, logic, schema.name)\n",
    "    return df\n",
    "\n",
    "def getStructFromJSON(json_schema: dict) -> StructType:\n",
    "    return StructType.fromJson(json_schema)\n",
    "\n",
    "def load_json(path):\n",
    "    f = open(path)\n",
    "    data = json.load(f)\n",
    "    return data\n",
    "\n",
    "class DataQualityAssessment:\n",
    "    def __init__(self, df: DataFrame, spark: SparkSession):\n",
    "        self.df = df\n",
    "        self.spark = spark\n",
    "    \n",
    "    def covid_19_clean_complete(self) -> DataFrame:\n",
    "        check = Check(self.spark, CheckLevel.Error, \"Review Check\")\n",
    "        checkResult = VerificationSuite(self.spark) \\\n",
    "        .onData(self.df) \\\n",
    "        .addCheck(\n",
    "            check.isComplete(\"province_state\")\n",
    "            # .isUnique(\"cod_idinmueble\")\n",
    "            .isComplete(\"date\")\n",
    "            # .isUnique(\"des_urlanuncio\")\n",
    "            .isComplete(\"who_region\")\n",
    "            .hasMin(\"lat\", lambda x: x >= -90)\n",
    "            .hasMax(\"lat\", lambda x: x <= 90)\n",
    "            .isComplete(\"lat\")\n",
    "            .hasMin(\"long\", lambda x: x >= -180)\n",
    "            .hasMax(\"long\", lambda x: x <= 180)\n",
    "            .isComplete(\"long\")\n",
    "            .isComplete(\"date\")\n",
    "            .isNonNegative(\"confirmed\")\n",
    "            .isComplete(\"confirmed\")\n",
    "            .isNonNegative(\"deaths\")\n",
    "            .isComplete(\"deaths\")\n",
    "            .isNonNegative(\"recovered\")\n",
    "            .isComplete(\"recovered\")\n",
    "            # .isNonNegative(\"active\")\n",
    "            .isComplete(\"active\")\n",
    "        ).run()\n",
    "\n",
    "        checkResultDf = VerificationResult.checkResultsAsDataFrame(self.spark, checkResult)\n",
    "        return checkResultDf\n",
    "    \n",
    "    \n",
    "def addDefaultAuditColumns(df: DataFrame) -> DataFrame:\n",
    "    df = withColumnOptimized(df, lit('ruben'), 'load_user')\n",
    "    df = withColumnOptimized(df, expr('now()'), 'load_time')\n",
    "    df = withColumnOptimized(df, expr('now()'), 'update_time')\n",
    "    return df"
   ]
  },
  {
   "cell_type": "markdown",
   "id": "44488cfe-10b2-4ff6-8a67-6df4d1432f9a",
   "metadata": {},
   "source": [
    "## 4-Iniciando la carga de datos en stage\n",
    "\n",
    "Iniciando la carga desde una capa <code>landing/raw</code> hacia una de <code>stage</code>, en esta capa tendremos los datos con el formato adecuado y validado, con eso podremos construir nuestro modelo en la siguiente capa (<code>analytics</code>)"
   ]
  },
  {
   "cell_type": "markdown",
   "id": "3e7db5c7-7278-40e1-a9e4-b96c07ca4761",
   "metadata": {},
   "source": [
    "Leemos la fuente de datos <code>covid_19_clean_complete.csv</code> y estandarizamos el nombre de las columnas"
   ]
  },
  {
   "cell_type": "code",
   "execution_count": 18,
   "id": "1cb43fbc-4808-4320-9b4d-c6c98d4d6cfa",
   "metadata": {},
   "outputs": [],
   "source": [
    "covid_19_clean_complete = spark.read.csv('raw/covid_19_clean_complete.csv', sep=',', header=True)\n",
    "\n",
    "#Este código genera un plan físico simple que es fácil de optimizar para Catalyst. También es elegante.\n",
    "corrected_columns = list(map(lambda x: x.lower().replace(\"/\", \"_\").replace(' ', '_'), covid_19_clean_complete.columns))\n",
    "\n",
    "covid_19_clean_complete = covid_19_clean_complete.toDF(*corrected_columns)\n",
    "# covid_19_clean_complete.explain()"
   ]
  },
  {
   "cell_type": "markdown",
   "id": "c26a13a9-3faa-468a-83ec-76d0988d3308",
   "metadata": {},
   "source": [
    "Para agregar el tipo de datos correcto a la tabla nos ayudamos del archivo <code>schema_covid_19_clean_complete.json</code> que tiene la estructura correcta de la tabla  \n",
    "**nota:** al ser un archivo de tipo control podriamos integrarlo dentro de un modelo de tablas de ***control de procesos y parametros***"
   ]
  },
  {
   "cell_type": "code",
   "execution_count": 19,
   "id": "223b8db1-de80-4340-8b70-c51c590d4130",
   "metadata": {},
   "outputs": [
    {
     "name": "stdout",
     "output_type": "stream",
     "text": [
      "root\n",
      " |-- province_state: string (nullable = true)\n",
      " |-- country_region: string (nullable = true)\n",
      " |-- lat: decimal(8,6) (nullable = true)\n",
      " |-- long: decimal(9,6) (nullable = true)\n",
      " |-- date: date (nullable = true)\n",
      " |-- confirmed: integer (nullable = true)\n",
      " |-- deaths: integer (nullable = true)\n",
      " |-- recovered: integer (nullable = true)\n",
      " |-- active: integer (nullable = true)\n",
      " |-- who_region: string (nullable = true)\n",
      " |-- load_user: string (nullable = false)\n",
      " |-- load_date: timestamp (nullable = true)\n",
      "\n"
     ]
    }
   ],
   "source": [
    "schema = load_json('conf_artifacts/schema_covid_19_clean_complete.json')\n",
    "covid_19_clean_complete = applyStructToDF(covid_19_clean_complete, getStructFromJSON(schema))\n",
    "\n",
    "#agregamos columnas de auditoria\n",
    "covid_19_clean_complete = withColumnOptimized(covid_19_clean_complete, lit('ruben'), 'load_user')\n",
    "covid_19_clean_complete = withColumnOptimized(covid_19_clean_complete, expr('cast(date as timestamp)'), 'load_date')\n",
    "\n",
    "covid_19_clean_complete.printSchema()"
   ]
  },
  {
   "cell_type": "markdown",
   "id": "ef6bb3d3-de40-422f-8bb4-56c2c392455b",
   "metadata": {},
   "source": [
    "En este nivel (raw -> stage) deberiamos validar la calidad de datos recividos, esto lo podemos lograr de forma muy eficiente usando Dequu, a continuación un ejemplo"
   ]
  },
  {
   "cell_type": "code",
   "execution_count": 12,
   "id": "b4591971-d977-40c5-b726-3e53e20a6131",
   "metadata": {},
   "outputs": [
    {
     "name": "stdout",
     "output_type": "stream",
     "text": [
      "Python Callback server started!\n"
     ]
    },
    {
     "name": "stderr",
     "output_type": "stream",
     "text": [
      "                                                                                \r"
     ]
    },
    {
     "name": "stdout",
     "output_type": "stream",
     "text": [
      "+------------+-----------+------------+----------------------------------------------------------------------------------------------------------------------+-----------------+-------------------------------------------------------------------+\n",
      "|check       |check_level|check_status|constraint                                                                                                            |constraint_status|constraint_message                                                 |\n",
      "+------------+-----------+------------+----------------------------------------------------------------------------------------------------------------------+-----------------+-------------------------------------------------------------------+\n",
      "|Review Check|Error      |Error       |CompletenessConstraint(Completeness(province_state,None))                                                             |Failure          |Value: 0.2988505747126437 does not meet the constraint requirement!|\n",
      "|Review Check|Error      |Error       |CompletenessConstraint(Completeness(date,None))                                                                       |Success          |                                                                   |\n",
      "|Review Check|Error      |Error       |CompletenessConstraint(Completeness(who_region,None))                                                                 |Success          |                                                                   |\n",
      "|Review Check|Error      |Error       |MinimumConstraint(Minimum(lat,None))                                                                                  |Success          |                                                                   |\n",
      "|Review Check|Error      |Error       |MaximumConstraint(Maximum(lat,None))                                                                                  |Success          |                                                                   |\n",
      "|Review Check|Error      |Error       |CompletenessConstraint(Completeness(lat,None))                                                                        |Success          |                                                                   |\n",
      "|Review Check|Error      |Error       |MinimumConstraint(Minimum(long,None))                                                                                 |Success          |                                                                   |\n",
      "|Review Check|Error      |Error       |MaximumConstraint(Maximum(long,None))                                                                                 |Success          |                                                                   |\n",
      "|Review Check|Error      |Error       |CompletenessConstraint(Completeness(long,None))                                                                       |Success          |                                                                   |\n",
      "|Review Check|Error      |Error       |CompletenessConstraint(Completeness(date,None))                                                                       |Success          |                                                                   |\n",
      "|Review Check|Error      |Error       |ComplianceConstraint(Compliance(confirmed is non-negative,COALESCE(CAST(confirmed AS DECIMAL(20,10)), 0.0) >= 0,None))|Success          |                                                                   |\n",
      "|Review Check|Error      |Error       |CompletenessConstraint(Completeness(confirmed,None))                                                                  |Success          |                                                                   |\n",
      "|Review Check|Error      |Error       |ComplianceConstraint(Compliance(deaths is non-negative,COALESCE(CAST(deaths AS DECIMAL(20,10)), 0.0) >= 0,None))      |Success          |                                                                   |\n",
      "|Review Check|Error      |Error       |CompletenessConstraint(Completeness(deaths,None))                                                                     |Success          |                                                                   |\n",
      "|Review Check|Error      |Error       |ComplianceConstraint(Compliance(recovered is non-negative,COALESCE(CAST(recovered AS DECIMAL(20,10)), 0.0) >= 0,None))|Success          |                                                                   |\n",
      "|Review Check|Error      |Error       |CompletenessConstraint(Completeness(recovered,None))                                                                  |Success          |                                                                   |\n",
      "|Review Check|Error      |Error       |CompletenessConstraint(Completeness(active,None))                                                                     |Success          |                                                                   |\n",
      "+------------+-----------+------------+----------------------------------------------------------------------------------------------------------------------+-----------------+-------------------------------------------------------------------+\n",
      "\n"
     ]
    }
   ],
   "source": [
    "dqa = DataQualityAssessment(covid_19_clean_complete, spark)\n",
    "quality = dqa.covid_19_clean_complete()\n",
    "quality.show(20, False)"
   ]
  },
  {
   "cell_type": "markdown",
   "id": "a823eb34-a8bc-4d3e-b31e-fe41b2d5710d",
   "metadata": {},
   "source": [
    "Podemos observar que una de nuestras reglas de calidad que definimos falla (<code>isComplete(province_state)</code>)  \n",
    "**nota:** Usando dequu podemos realizar pruebas de calidad complejas ya que el framework las tiene optimizadas y ademas podemos automatizar la limpieza automatica de los datos y rejecciones de los mismos  \n",
    "**nota2:** Esa tabla de reporte de calidad (<code>quality</code>) se puede ir cargando a una tabla (por ejemplo en alguna del modelo de control de procesos) e ir graficando la evolucion de la calidad de los datos recibidos dia a dia (mes a mes, etc)"
   ]
  },
  {
   "cell_type": "markdown",
   "id": "749fa284-248b-4b77-994a-6cfd63969547",
   "metadata": {},
   "source": [
    "Finalmente cargamos la tabla ya validada y con sus respectivos tipos de datos en la capa <code>stage</code>  \n",
    "Partitionamos por el campo <code>date</code>"
   ]
  },
  {
   "cell_type": "code",
   "execution_count": null,
   "id": "c8fe908e-57d8-43e8-9d54-0da162a0c4c6",
   "metadata": {},
   "outputs": [],
   "source": [
    "%%time\n",
    "covid_19_clean_complete.repartition(4).write.parquet(\n",
    "            'stage/covid_19_clean_complete/',\n",
    "            mode='overwrite',\n",
    "            compression='snappy',\n",
    "            partitionBy='date'\n",
    "        )"
   ]
  },
  {
   "cell_type": "markdown",
   "id": "eff1e3a4-3ac2-4626-8390-1f34f55c2913",
   "metadata": {},
   "source": [
    "### 4.1 Usando Pandas para cargar datos"
   ]
  },
  {
   "cell_type": "markdown",
   "id": "2e676a1d-b18a-4c70-9635-41775bb72686",
   "metadata": {},
   "source": [
    "Usaremos ahora pandas para cargar datos hacia la capa <code>stage</code> en formato <code>parquet</code> con compresión <code>snappy</code>"
   ]
  },
  {
   "cell_type": "code",
   "execution_count": null,
   "id": "29baa040-6f94-40a2-88c6-370d1fd71ed9",
   "metadata": {},
   "outputs": [],
   "source": [
    "# !mkdir stage/worldometer_data_reduced"
   ]
  },
  {
   "cell_type": "code",
   "execution_count": null,
   "id": "0e44248a-ee5c-42d8-9696-b4ef6ca2f709",
   "metadata": {},
   "outputs": [],
   "source": [
    "worldometer_data = pd.read_csv('raw/worldometer_data.csv')\n",
    "worldometer_data_reduced = worldometer_data[['Country/Region', 'Continent']].rename(columns={'Country/Region': 'country_names', 'Continent': 'continent_name'})\n",
    "worldometer_data_reduced.to_parquet(f'stage/worldometer_data_reduced/0001.snappy.parquet', compression='snappy')"
   ]
  },
  {
   "cell_type": "markdown",
   "id": "2726075d-d234-47ee-b442-af329bb98425",
   "metadata": {},
   "source": [
    "## 5- Costrución del modelo DIM-FACT en la capa Analytics"
   ]
  },
  {
   "cell_type": "markdown",
   "id": "aefe5ca2-b121-4978-a830-2ec7e2fdb527",
   "metadata": {},
   "source": [
    "![SNOWFALL](model.png)"
   ]
  },
  {
   "cell_type": "markdown",
   "id": "fa8d5d2d-37a2-43be-8c37-5790ab3177b5",
   "metadata": {},
   "source": [
    "### 5.1- Primera carga - 2020-01-22  \n",
    "Definimos las opciones de conf para hudi"
   ]
  },
  {
   "cell_type": "code",
   "execution_count": 75,
   "id": "972a6836-7124-4f44-b634-fdcf99cb5664",
   "metadata": {},
   "outputs": [],
   "source": [
    "hudiOptions = {\n",
    "    \"hoodie.table.name\": \"my_hudi_table\",\n",
    "    # \"hoodie.datasource.write.recordkey.field\": \"source_partner_id\",\n",
    "    \"hoodie.datasource.write.partitionpath.field\": \"load_user\",\n",
    "    \"hoodie.datasource.write.precombine.field\": \"update_time\",\n",
    "    \"hoodie.parquet.compression.codec\": \"snappy\",\n",
    "    \"hoodie.datasource.write.storage.type\": \"COPY_ON_WRITE\",\n",
    "    \"hoodie.datasource.write.operation\": \"insert\",\n",
    "    # \"hoodie.datasource.write.keygenerator.class\": \"org.apache.hudi.keygen.ComplexKeyGenerator\",\n",
    "    # \"hoodie.datasource.hive_sync.enable\": \"true\",\n",
    "    # \"hoodie.datasource.hive_sync.table\": \"my_hudi_table\",\n",
    "    # \"hoodie.datasource.hive_sync.partition_fields\": \"creation_date\",\n",
    "    # \"hoodie.datasource.hive_sync.partition_extractor_class\": \"org.apache.hudi.hive.MultiPartKeysValueExtractor\",\n",
    "    \"hoodie.index.type\": \"GLOBAL_BLOOM\",  # This is required if we want to ensure we upsert a record, even if the partition changes\n",
    "    \"hoodie.bloom.index.update.partition.path\": \"true\",  # This is required to write the data into the new partition (defaults to false in 0.8.0, true in 0.9.0)\n",
    "}"
   ]
  },
  {
   "cell_type": "markdown",
   "id": "145cd604-af8a-4953-8a85-92910fc792a5",
   "metadata": {},
   "source": [
    "leemos nuestras fuentes de <code>stage</code>"
   ]
  },
  {
   "cell_type": "code",
   "execution_count": 22,
   "id": "23f7b80b-d453-428a-974f-03075ca208c9",
   "metadata": {},
   "outputs": [],
   "source": [
    "covid_19_clean_complete = spark.read.option(\"basePath\", \"stage/covid_19_clean_complete/\").parquet('stage/covid_19_clean_complete/date=2020-01-22/')\n",
    "worldometer_data_reduced = spark.read.parquet('stage/worldometer_data_reduced/')"
   ]
  },
  {
   "cell_type": "markdown",
   "id": "88051619-fb77-4cc1-87b5-235160483b72",
   "metadata": {},
   "source": [
    "#### 5.1.1 DIM_DATE\n",
    "Tabla que se crea una sola vez"
   ]
  },
  {
   "cell_type": "code",
   "execution_count": 57,
   "id": "c985f47d-c0ad-45e6-896d-e036e9435e4f",
   "metadata": {},
   "outputs": [
    {
     "name": "stdout",
     "output_type": "stream",
     "text": [
      "+----------+---+-----+----+---------+--------------------+--------------------+\n",
      "|      date|day|month|year|load_user|           load_time|         update_time|\n",
      "+----------+---+-----+----+---------+--------------------+--------------------+\n",
      "|2018-01-01| 01|   01|2018|    ruben|2023-01-10 22:34:...|2023-01-10 22:34:...|\n",
      "|2018-01-02| 02|   01|2018|    ruben|2023-01-10 22:34:...|2023-01-10 22:34:...|\n",
      "|2018-01-03| 03|   01|2018|    ruben|2023-01-10 22:34:...|2023-01-10 22:34:...|\n",
      "|2018-01-04| 04|   01|2018|    ruben|2023-01-10 22:34:...|2023-01-10 22:34:...|\n",
      "|2018-01-05| 05|   01|2018|    ruben|2023-01-10 22:34:...|2023-01-10 22:34:...|\n",
      "+----------+---+-----+----+---------+--------------------+--------------------+\n",
      "only showing top 5 rows\n",
      "\n"
     ]
    }
   ],
   "source": [
    "date_df = spark.sql(\"SELECT sequence(to_date('2018-01-01'), to_date('2050-01-01'), interval 1 day) as date\").withColumn(\"date\", explode(col(\"date\")))\n",
    "dim_date = date_df.select('date', lpad(dayofmonth('date'), 2, '0').alias('day'), lpad(month('date'), 2, '0').alias('month'), year('date').alias('year'))\n",
    "dim_date = addDefaultAuditColumns(dim_date)\n",
    "dim_date.show(5)"
   ]
  },
  {
   "cell_type": "markdown",
   "id": "e3701d95-6712-426e-bb8f-22fd6714b4cb",
   "metadata": {},
   "source": [
    "La guardamos en la capa <code>analytics</code>"
   ]
  },
  {
   "cell_type": "code",
   "execution_count": 58,
   "id": "7bff5bae-0eeb-4050-ada0-b4900bd3cf8a",
   "metadata": {},
   "outputs": [],
   "source": [
    "dim_date.write.parquet(\n",
    "            'analytics/dim_date/',\n",
    "            mode='overwrite',\n",
    "            compression='snappy'\n",
    "        )"
   ]
  },
  {
   "cell_type": "markdown",
   "id": "19181d4c-452e-4f84-bae3-861d77cd7b25",
   "metadata": {},
   "source": [
    "#### 5.1.2 DIM_CONTINENT"
   ]
  },
  {
   "cell_type": "markdown",
   "id": "44a0e79a-a735-421a-8d72-34a6c7cfecb3",
   "metadata": {},
   "source": [
    "Igualmente cargamos una única vez la dimensión continent"
   ]
  },
  {
   "cell_type": "code",
   "execution_count": 59,
   "id": "0f220e71-90db-44f3-9b11-f3c42a728c0d",
   "metadata": {},
   "outputs": [
    {
     "name": "stdout",
     "output_type": "stream",
     "text": [
      "+--------------+-------------+---------+--------------------+--------------------+\n",
      "|continent_name|  description|load_user|           load_time|         update_time|\n",
      "+--------------+-------------+---------+--------------------+--------------------+\n",
      "| north america|North America|    ruben|2023-01-10 22:34:...|2023-01-10 22:34:...|\n",
      "| south america|South America|    ruben|2023-01-10 22:34:...|2023-01-10 22:34:...|\n",
      "|          asia|         Asia|    ruben|2023-01-10 22:34:...|2023-01-10 22:34:...|\n",
      "|        europe|       Europe|    ruben|2023-01-10 22:34:...|2023-01-10 22:34:...|\n",
      "|        africa|       Africa|    ruben|2023-01-10 22:34:...|2023-01-10 22:34:...|\n",
      "+--------------+-------------+---------+--------------------+--------------------+\n",
      "only showing top 5 rows\n",
      "\n"
     ]
    }
   ],
   "source": [
    "dim_continent = worldometer_data_reduced.select(lower('continent_name').alias('continent_name'), col('continent_name').alias('description'))\n",
    "dim_continent = addDefaultAuditColumns(dim_continent)\n",
    "dim_continent.show(5)"
   ]
  },
  {
   "cell_type": "code",
   "execution_count": 78,
   "id": "29f221ef-4e64-451f-bee6-f6ba9468ffe1",
   "metadata": {},
   "outputs": [],
   "source": [
    "dim_continent.write.parquet(\n",
    "            'analytics/dim_continent/',\n",
    "            mode='overwrite',\n",
    "            compression='snappy'\n",
    "        )"
   ]
  },
  {
   "cell_type": "markdown",
   "id": "1f4ba0d4-13b3-4d7e-9852-bae39028cb23",
   "metadata": {},
   "source": [
    "#### 5.1.3 DIM_REGION"
   ]
  },
  {
   "cell_type": "code",
   "execution_count": 76,
   "id": "b8380b27-43f0-4e8d-a5be-b1fdb30a3b89",
   "metadata": {},
   "outputs": [
    {
     "name": "stdout",
     "output_type": "stream",
     "text": [
      "+--------------------+--------------------+---------+--------------------+--------------------+\n",
      "|         region_name|         description|load_user|           load_time|         update_time|\n",
      "+--------------------+--------------------+---------+--------------------+--------------------+\n",
      "|     western pacific|     Western Pacific|    ruben|2023-01-10 23:07:...|2023-01-10 23:07:...|\n",
      "|              europe|              Europe|    ruben|2023-01-10 23:07:...|2023-01-10 23:07:...|\n",
      "|eastern mediterra...|Eastern Mediterra...|    ruben|2023-01-10 23:07:...|2023-01-10 23:07:...|\n",
      "|     south-east asia|     South-East Asia|    ruben|2023-01-10 23:07:...|2023-01-10 23:07:...|\n",
      "|              africa|              Africa|    ruben|2023-01-10 23:07:...|2023-01-10 23:07:...|\n",
      "|            americas|            Americas|    ruben|2023-01-10 23:07:...|2023-01-10 23:07:...|\n",
      "+--------------------+--------------------+---------+--------------------+--------------------+\n",
      "\n"
     ]
    }
   ],
   "source": [
    "dim_region = covid_19_clean_complete.select(\n",
    "    lower('who_region').alias('region_name'),\n",
    "    col('who_region').alias('description')\n",
    ").withColumn(\n",
    "    'seq',\n",
    "    expr('row_number() over(partition by region_name order by description desc)')\n",
    ").filter('seq = 1').drop('seq')\n",
    "dim_region = addDefaultAuditColumns(dim_region)\n",
    "dim_region.show()"
   ]
  },
  {
   "cell_type": "code",
   "execution_count": 77,
   "id": "c6a5c48c-9d36-4b6e-9ee8-25d63856034f",
   "metadata": {},
   "outputs": [],
   "source": [
    "hudiOptions['hoodie.datasource.write.recordkey.field'] = 'region_name'\n",
    "dim_region.write.format(\"org.apache.hudi\").options(**hudiOptions).mode(\"overwrite\").save(\"/home/jovyan/work/analytics/dim_region\")"
   ]
  },
  {
   "cell_type": "markdown",
   "id": "d8ed635d-f0ae-4a8c-8b78-79d99b3f7943",
   "metadata": {},
   "source": [
    "#### 5.1.4 DIM_COUNTRY"
   ]
  },
  {
   "cell_type": "code",
   "execution_count": 79,
   "id": "6f64d2f9-5ee9-462e-9fee-def74c4e7ac2",
   "metadata": {},
   "outputs": [
    {
     "name": "stdout",
     "output_type": "stream",
     "text": [
      "+------------+---------------+-----------+------------------+------------------+--------------+---------+--------------------+--------------------+\n",
      "|country_name|    region_name|description|          latitude|         longitude|continent_name|load_user|           load_time|         update_time|\n",
      "+------------+---------------+-----------+------------------+------------------+--------------+---------+--------------------+--------------------+\n",
      "|        laos|western pacific|       Laos|19.856270000000002|        102.495496|          asia|    ruben|2023-01-10 23:10:...|2023-01-10 23:10:...|\n",
      "|      guyana|       americas|     Guyana| 4.860416000000002|-58.93018000000001| south america|    ruben|2023-01-10 23:10:...|2023-01-10 23:10:...|\n",
      "|       japan|western pacific|      Japan|         36.204824|        138.252924|          asia|    ruben|2023-01-10 23:10:...|2023-01-10 23:10:...|\n",
      "|    portugal|         europe|   Portugal|           39.3999|           -8.2245|        europe|    ruben|2023-01-10 23:10:...|2023-01-10 23:10:...|\n",
      "|        chad|         africa|       Chad|           15.4542|           18.7322|        africa|    ruben|2023-01-10 23:10:...|2023-01-10 23:10:...|\n",
      "+------------+---------------+-----------+------------------+------------------+--------------+---------+--------------------+--------------------+\n",
      "only showing top 5 rows\n",
      "\n"
     ]
    }
   ],
   "source": [
    "dim_country = covid_19_clean_complete.select(\n",
    "    lower('country_region').alias('country_name'),\n",
    "    lower('who_region').alias('region_name'),\n",
    "    col('country_region').alias('description'),\n",
    "    col('lat').alias('latitude'),\n",
    "    col('long').alias('longitude'),\n",
    ").withColumn(\n",
    "    'seq', \n",
    "    expr('row_number() over(partition by country_name, region_name order by latitude desc)')\n",
    ").filter('seq = 1').drop('seq')\n",
    "dim_country_complete = dim_country.alias('a').join(\n",
    "    worldometer_data_reduced.alias('b'),\n",
    "    col('a.country_name') == lower('b.country_names'),\n",
    "    'left'\n",
    ").drop('country_names').select(col('a.*'), lower('continent_name').alias('continent_name'))\n",
    "dim_country_complete = addDefaultAuditColumns(dim_country_complete)\n",
    "dim_country_complete.show(5)"
   ]
  },
  {
   "cell_type": "code",
   "execution_count": 80,
   "id": "097ed87a-1480-4a14-ad81-ae378073468c",
   "metadata": {},
   "outputs": [],
   "source": [
    "hudiOptions['hoodie.datasource.write.recordkey.field'] = 'country_name,region_name'\n",
    "hudiOptions['hoodie.datasource.write.keygenerator.class'] = 'org.apache.hudi.keygen.ComplexKeyGenerator'\n",
    "dim_country_complete.write.format(\"org.apache.hudi\").options(**hudiOptions).mode(\"overwrite\").save(\"/home/jovyan/work/analytics/dim_country\")"
   ]
  },
  {
   "cell_type": "markdown",
   "id": "22ec2d4d-fa06-4868-8458-f12d47d05216",
   "metadata": {},
   "source": [
    "#### 5.1.5 DIM_STATE"
   ]
  },
  {
   "cell_type": "code",
   "execution_count": 81,
   "id": "88837e9b-6b16-4f22-b247-9ecc65eb55d8",
   "metadata": {},
   "outputs": [
    {
     "name": "stdout",
     "output_type": "stream",
     "text": [
      "+----------------+------------+---------------+----------------+------------------+---------+--------------+---------+--------------------+--------------------+\n",
      "|      state_name|country_name|    region_name|     description|          latitude|longitude|continent_name|load_user|           load_time|         update_time|\n",
      "+----------------+------------+---------------+----------------+------------------+---------+--------------+---------+--------------------+--------------------+\n",
      "|british columbia|      canada|       americas|British Columbia|           53.7267|-127.6476| north america|    ruben|2023-01-10 23:10:...|2023-01-10 23:10:...|\n",
      "|           gansu|       china|western pacific|           Gansu|           35.7518| 104.2861|          null|    ruben|2023-01-10 23:10:...|2023-01-10 23:10:...|\n",
      "|        shandong|       china|western pacific|        Shandong|           36.3427| 118.1498|          null|    ruben|2023-01-10 23:10:...|2023-01-10 23:10:...|\n",
      "|    heilongjiang|       china|western pacific|    Heilongjiang|47.861999999999995| 127.7615|          null|    ruben|2023-01-10 23:10:...|2023-01-10 23:10:...|\n",
      "|           hebei|       china|western pacific|           Hebei|            39.549| 116.1306|          null|    ruben|2023-01-10 23:10:...|2023-01-10 23:10:...|\n",
      "+----------------+------------+---------------+----------------+------------------+---------+--------------+---------+--------------------+--------------------+\n",
      "only showing top 5 rows\n",
      "\n"
     ]
    }
   ],
   "source": [
    "dim_state = covid_19_clean_complete.select(\n",
    "    lower('province_state').alias('state_name'),\n",
    "    lower('country_region').alias('country_name'),\n",
    "    lower('who_region').alias('region_name'),\n",
    "    col('province_state').alias('description'),\n",
    "    col('lat').alias('latitude'),\n",
    "    col('long').alias('longitude'),\n",
    ").withColumn(\n",
    "    'seq', \n",
    "    expr('row_number() over(partition by state_name, country_name, region_name order by latitude desc)')\n",
    ").filter('seq = 1').drop('seq').filter('state_name is not null')\n",
    "dim_state_complete = dim_state.alias('a').join(\n",
    "    worldometer_data_reduced.alias('b'),\n",
    "    col('a.country_name') == lower('b.country_names'),\n",
    "    'left'\n",
    ").drop('country_names').select(col('a.*'), lower('continent_name').alias('continent_name'))\n",
    "dim_state_complete = addDefaultAuditColumns(dim_state_complete)\n",
    "dim_state_complete.show(5)"
   ]
  },
  {
   "cell_type": "code",
   "execution_count": 82,
   "id": "e2565d41-acb1-437d-aff9-af262a043228",
   "metadata": {},
   "outputs": [],
   "source": [
    "hudiOptions['hoodie.datasource.write.recordkey.field'] = 'state_name,country_name,region_name'\n",
    "hudiOptions['hoodie.datasource.write.keygenerator.class'] = 'org.apache.hudi.keygen.ComplexKeyGenerator'\n",
    "dim_state_complete.write.format(\"org.apache.hudi\").options(**hudiOptions).mode(\"overwrite\").save(\"/home/jovyan/work/analytics/dim_state\")"
   ]
  },
  {
   "cell_type": "markdown",
   "id": "d66e769d-3e59-49be-941f-62b93b0a4a63",
   "metadata": {},
   "source": [
    "#### 5.1.6 FCT_REPORT"
   ]
  },
  {
   "cell_type": "code",
   "execution_count": 143,
   "id": "53b0deae-291b-4de1-a138-5e4f2b0308b2",
   "metadata": {
    "tags": []
   },
   "outputs": [
    {
     "name": "stdout",
     "output_type": "stream",
     "text": [
      "+----------+--------------+---------------+----------+---------+------+---------+------+---------+----------+-----------+------------+---------------+----------------+---------+--------------------+--------------------+\n",
      "|state_name|  country_name|    region_name|      date|confirmed|deaths|recovered|active|new_cases|new_deaths|new_recoved|deaths_cases|recovered_cases|deaths_recovered|load_user|           load_time|         update_time|\n",
      "+----------+--------------+---------------+----------+---------+------+---------+------+---------+----------+-----------+------------+---------------+----------------+---------+--------------------+--------------------+\n",
      "|      null|   netherlands|         europe|2020-01-22|        0|     0|        0|     0|     null|      null|       null|        null|           null|            null|    ruben|2023-01-11 06:10:...|2023-01-11 06:10:...|\n",
      "|      null|        belize|       americas|2020-01-22|        0|     0|        0|     0|     null|      null|       null|        null|           null|            null|    ruben|2023-01-11 06:10:...|2023-01-11 06:10:...|\n",
      "|  anguilla|united kingdom|         europe|2020-01-22|        0|     0|        0|     0|     null|      null|       null|        null|           null|            null|    ruben|2023-01-11 06:10:...|2023-01-11 06:10:...|\n",
      "|      null|   south korea|western pacific|2020-01-22|        1|     0|        0|     1|     null|      null|       null|        0.00|           0.00|            null|    ruben|2023-01-11 06:10:...|2023-01-11 06:10:...|\n",
      "|      null|       denmark|         europe|2020-01-22|        0|     0|        0|     0|     null|      null|       null|        null|           null|            null|    ruben|2023-01-11 06:10:...|2023-01-11 06:10:...|\n",
      "+----------+--------------+---------------+----------+---------+------+---------+------+---------+----------+-----------+------------+---------------+----------------+---------+--------------------+--------------------+\n",
      "only showing top 5 rows\n",
      "\n"
     ]
    }
   ],
   "source": [
    "fct_report = covid_19_clean_complete.select(\n",
    "    lower('province_state').alias('state_name'),\n",
    "    lower('country_region').alias('country_name'),\n",
    "    lower('who_region').alias('region_name'),\n",
    "    col('date'),\n",
    "    col('confirmed'),\n",
    "    col('deaths'),\n",
    "    col('recovered'),\n",
    "    col('active'),\n",
    "    lit(None).cast('integer').alias('new_cases'),\n",
    "    lit(None).cast('integer').alias('new_deaths'),\n",
    "    lit(None).cast('integer').alias('new_recoved'),\n",
    "    (col('deaths')/col('confirmed')*100).cast('decimal(6,2)').alias('deaths_cases'),\n",
    "    (col('recovered')/col('confirmed')*100).cast('decimal(6,2)').alias('recovered_cases'),\n",
    "    (col('deaths')/col('recovered')*100).cast('decimal(6,2)').alias('deaths_recovered')\n",
    ")\n",
    "fct_report = addDefaultAuditColumns(fct_report)\n",
    "fct_report.show(5)"
   ]
  },
  {
   "cell_type": "code",
   "execution_count": 144,
   "id": "32efcc4f-fedb-473c-99f3-f3671e3d80b6",
   "metadata": {},
   "outputs": [],
   "source": [
    "fct_report.write.parquet(\n",
    "            'analytics/fct_report/',\n",
    "            mode='overwrite',\n",
    "            compression='snappy',\n",
    "            partitionBy='date'\n",
    "        )"
   ]
  },
  {
   "cell_type": "markdown",
   "id": "9eea1763-a352-4463-a77c-d7c03b9b672f",
   "metadata": {},
   "source": [
    "## 5.2- Posteriores cargas  \n",
    "En las posteriores cargas se va necesitar identificar los deltas de datos para las tablas DIM (SCD) y las incrementales para la tabla FACT"
   ]
  },
  {
   "cell_type": "markdown",
   "id": "692713a1-261d-4b07-80af-9675216c84b4",
   "metadata": {},
   "source": [
    "La carga diaria se puede orquestar usando Apache Airflow o AWS Stepfunctions, pero ese desarrollo esta fuera del alcance del Challenge"
   ]
  },
  {
   "cell_type": "code",
   "execution_count": 121,
   "id": "a1c4f812-74d1-4610-b0dd-a16bd048c555",
   "metadata": {},
   "outputs": [],
   "source": [
    "date_today = '2020-01-23'\n",
    "date = datetime.datetime.strptime(date_today, '%Y-%m-%d')\n",
    "date_before = (date + datetime.timedelta(days=-1)).strftime(\"%Y-%m-%d\")"
   ]
  },
  {
   "cell_type": "code",
   "execution_count": 88,
   "id": "a9543310-ed26-4103-bd50-3d3ec99a96bc",
   "metadata": {},
   "outputs": [],
   "source": [
    "hudiOptions = {\n",
    "    \"hoodie.table.name\": \"my_hudi_table\",\n",
    "    \"hoodie.datasource.write.recordkey.field\": \"region_name\",\n",
    "    \"hoodie.datasource.write.partitionpath.field\": \"load_user\",\n",
    "    \"hoodie.datasource.write.precombine.field\": \"update_time\",\n",
    "    \"hoodie.parquet.compression.codec\": \"snappy\",\n",
    "    \"hoodie.datasource.write.storage.type\": \"COPY_ON_WRITE\",\n",
    "    \"hoodie.datasource.write.operation\": \"upsert\",\n",
    "    # \"hoodie.datasource.write.keygenerator.class\": \"org.apache.hudi.keygen.ComplexKeyGenerator\",\n",
    "    # \"hoodie.datasource.hive_sync.enable\": \"true\",\n",
    "    # \"hoodie.datasource.hive_sync.table\": \"my_hudi_table\",\n",
    "    # \"hoodie.datasource.hive_sync.partition_fields\": \"creation_date\",\n",
    "    # \"hoodie.datasource.hive_sync.partition_extractor_class\": \"org.apache.hudi.hive.MultiPartKeysValueExtractor\",\n",
    "    \"hoodie.index.type\": \"GLOBAL_BLOOM\",  # This is required if we want to ensure we upsert a record, even if the partition changes\n",
    "    \"hoodie.bloom.index.update.partition.path\": \"true\",  # This is required to write the data into the new partition (defaults to false in 0.8.0, true in 0.9.0)\n",
    "}"
   ]
  },
  {
   "cell_type": "markdown",
   "id": "0c3200da-244e-4435-9979-569ca75627d3",
   "metadata": {},
   "source": [
    "### 5.2.1 Leemos el nuevo BATCH"
   ]
  },
  {
   "cell_type": "code",
   "execution_count": 95,
   "id": "b5342c78-af64-4970-aa44-d82dcf0343ef",
   "metadata": {},
   "outputs": [],
   "source": [
    "new_batch = spark.read.option(\"basePath\", \"stage/covid_19_clean_complete/\").parquet(f'stage/covid_19_clean_complete/date={date_today}/')\n",
    "worldometer_data_reduced = spark.read.parquet('stage/worldometer_data_reduced/')"
   ]
  },
  {
   "cell_type": "markdown",
   "id": "b9e22481-d833-4930-a417-555c7d3e4843",
   "metadata": {},
   "source": [
    "#### DIM_REGION DELTA"
   ]
  },
  {
   "cell_type": "code",
   "execution_count": 63,
   "id": "380b0281-a525-411f-97ac-e2c2b8b27369",
   "metadata": {},
   "outputs": [
    {
     "name": "stdout",
     "output_type": "stream",
     "text": [
      "+--------------------+--------------------+---------+--------------------+--------------------+\n",
      "|         region_name|         description|load_user|           load_time|         update_time|\n",
      "+--------------------+--------------------+---------+--------------------+--------------------+\n",
      "|     western pacific|     Western Pacific|    ruben|2023-01-10 22:59:...|2023-01-10 22:59:...|\n",
      "|              europe|              Europe|    ruben|2023-01-10 22:59:...|2023-01-10 22:59:...|\n",
      "|eastern mediterra...|Eastern Mediterra...|    ruben|2023-01-10 22:59:...|2023-01-10 22:59:...|\n",
      "|     south-east asia|     South-East Asia|    ruben|2023-01-10 22:59:...|2023-01-10 22:59:...|\n",
      "|              africa|              Africa|    ruben|2023-01-10 22:59:...|2023-01-10 22:59:...|\n",
      "|            americas|            Americas|    ruben|2023-01-10 22:59:...|2023-01-10 22:59:...|\n",
      "+--------------------+--------------------+---------+--------------------+--------------------+\n",
      "\n"
     ]
    }
   ],
   "source": [
    "dim_region_batch = new_batch.select(\n",
    "    lower('who_region').alias('region_name'),\n",
    "    col('who_region').alias('description')\n",
    ").withColumn(\n",
    "    'seq',\n",
    "    expr('row_number() over(partition by region_name order by description desc)')\n",
    ").filter('seq = 1').drop('seq')\n",
    "dim_region_batch = addDefaultAuditColumns(dim_region_batch)\n",
    "dim_region_batch.show()"
   ]
  },
  {
   "cell_type": "markdown",
   "id": "a4c81140-e91a-4fca-baa3-f29bf820f722",
   "metadata": {},
   "source": [
    "Leemos nuestra dimension para poder actualizar los registros"
   ]
  },
  {
   "cell_type": "code",
   "execution_count": 91,
   "id": "1af03ae7-178d-4b1b-85b2-384f0fde78bc",
   "metadata": {},
   "outputs": [],
   "source": [
    "dim_region = (\n",
    "    spark\n",
    "    .read\n",
    "    .format('org.apache.hudi')\n",
    "    .load(\"/home/jovyan/work/analytics/dim_region/\")\n",
    ")"
   ]
  },
  {
   "cell_type": "code",
   "execution_count": 92,
   "id": "c9e2d910-2d76-4de6-b146-d3d9babc5d28",
   "metadata": {},
   "outputs": [
    {
     "name": "stdout",
     "output_type": "stream",
     "text": [
      "+-------------------+--------------------+--------------------+----------------------+--------------------+--------------------+--------------------+--------------------+--------------------+---------+\n",
      "|_hoodie_commit_time|_hoodie_commit_seqno|  _hoodie_record_key|_hoodie_partition_path|   _hoodie_file_name|         region_name|         description|           load_time|         update_time|load_user|\n",
      "+-------------------+--------------------+--------------------+----------------------+--------------------+--------------------+--------------------+--------------------+--------------------+---------+\n",
      "|  20230110232430601|20230110232430601...|     western pacific|                 ruben|101cc647-bf96-435...|     western pacific|     Western Pacific|2023-01-10 23:09:...|2023-01-10 23:24:...|    ruben|\n",
      "|  20230110232430601|20230110232430601...|              europe|                 ruben|101cc647-bf96-435...|              europe|              Europe|2023-01-10 23:09:...|2023-01-10 23:24:...|    ruben|\n",
      "|  20230110232430601|20230110232430601...|eastern mediterra...|                 ruben|101cc647-bf96-435...|eastern mediterra...|Eastern Mediterra...|2023-01-10 23:09:...|2023-01-10 23:24:...|    ruben|\n",
      "|  20230110232430601|20230110232430601...|     south-east asia|                 ruben|101cc647-bf96-435...|     south-east asia|     South-East Asia|2023-01-10 23:09:...|2023-01-10 23:24:...|    ruben|\n",
      "|  20230110232430601|20230110232430601...|              africa|                 ruben|101cc647-bf96-435...|              africa|              Africa|2023-01-10 23:09:...|2023-01-10 23:24:...|    ruben|\n",
      "|  20230110232430601|20230110232430601...|            americas|                 ruben|101cc647-bf96-435...|            americas|            Americas|2023-01-10 23:09:...|2023-01-10 23:24:...|    ruben|\n",
      "+-------------------+--------------------+--------------------+----------------------+--------------------+--------------------+--------------------+--------------------+--------------------+---------+\n",
      "\n"
     ]
    }
   ],
   "source": [
    "dim_region.show()"
   ]
  },
  {
   "cell_type": "markdown",
   "id": "f5636a23-6a9e-460e-b831-c6ec4b9eea93",
   "metadata": {},
   "source": [
    "Calculamos el delta"
   ]
  },
  {
   "cell_type": "code",
   "execution_count": 89,
   "id": "96eebaf9-4d6f-4853-b7f1-ceb44a4c806c",
   "metadata": {},
   "outputs": [
    {
     "name": "stdout",
     "output_type": "stream",
     "text": [
      "+--------------------+--------------------+--------------------+--------------------+---------+\n",
      "|         region_name|         description|           load_time|         update_time|load_user|\n",
      "+--------------------+--------------------+--------------------+--------------------+---------+\n",
      "|     western pacific|     Western Pacific|2023-01-10 23:09:...|2023-01-10 23:22:...|    ruben|\n",
      "|              europe|              Europe|2023-01-10 23:09:...|2023-01-10 23:22:...|    ruben|\n",
      "|eastern mediterra...|Eastern Mediterra...|2023-01-10 23:09:...|2023-01-10 23:22:...|    ruben|\n",
      "|     south-east asia|     South-East Asia|2023-01-10 23:09:...|2023-01-10 23:22:...|    ruben|\n",
      "|              africa|              Africa|2023-01-10 23:09:...|2023-01-10 23:22:...|    ruben|\n",
      "|            americas|            Americas|2023-01-10 23:09:...|2023-01-10 23:22:...|    ruben|\n",
      "+--------------------+--------------------+--------------------+--------------------+---------+\n",
      "\n"
     ]
    }
   ],
   "source": [
    "dim_region_delta = dim_region_batch.alias('a').join(\n",
    "    dim_region.alias('b'),\n",
    "    col('a.region_name') == col('b.region_name'),\n",
    "    'left'\n",
    ").select(\n",
    "    col('a.region_name'),\n",
    "    col('a.description'),\n",
    "    coalesce(col('b.load_time'), col('a.load_time')).alias('load_time'),\n",
    "    expr('now()').alias('update_time'),\n",
    "    col('a.load_user')\n",
    ")\n",
    "dim_region_delta.show()"
   ]
  },
  {
   "cell_type": "markdown",
   "id": "f144ac6c-ee70-4062-943f-8df9e039528f",
   "metadata": {},
   "source": [
    "Nos apoyamos en hudi para hacer el **UPSERT** a nivel de registro"
   ]
  },
  {
   "cell_type": "code",
   "execution_count": 90,
   "id": "9301be7b-a577-46a6-81ce-d7b0c28b04c5",
   "metadata": {},
   "outputs": [],
   "source": [
    "dim_region_delta.write.format(\"org.apache.hudi\").options(**hudiOptions).mode(\"append\").save(\"/home/jovyan/work/analytics/dim_region\")"
   ]
  },
  {
   "cell_type": "markdown",
   "id": "3db5b241-60f7-405c-8d26-5125d1adf596",
   "metadata": {},
   "source": [
    "Podemos ver la metadata generada por Hudi"
   ]
  },
  {
   "cell_type": "code",
   "execution_count": 94,
   "id": "e04b3c78-4c4e-47a8-b6f4-8ef4af8c809e",
   "metadata": {},
   "outputs": [
    {
     "name": "stdout",
     "output_type": "stream",
     "text": [
      "total 880K\n",
      "drwxr-xr-x 2 jovyan users 4.0K Jan 10 23:24 .\n",
      "drwxr-xr-x 4 jovyan users 4.0K Jan 10 23:09 ..\n",
      "-rw-r--r-- 1 jovyan users 426K Jan 10 23:09 101cc647-bf96-4358-b5e5-aa2d062bb9a1-0_0-201-7627_20230110230913978.parquet\n",
      "-rw-r--r-- 1 jovyan users 3.4K Jan 10 23:09 .101cc647-bf96-4358-b5e5-aa2d062bb9a1-0_0-201-7627_20230110230913978.parquet.crc\n",
      "-rw-r--r-- 1 jovyan users 426K Jan 10 23:24 101cc647-bf96-4358-b5e5-aa2d062bb9a1-0_0-313-12528_20230110232430601.parquet\n",
      "-rw-r--r-- 1 jovyan users 3.4K Jan 10 23:24 .101cc647-bf96-4358-b5e5-aa2d062bb9a1-0_0-313-12528_20230110232430601.parquet.crc\n",
      "-rw-r--r-- 1 jovyan users   96 Jan 10 23:09 .hoodie_partition_metadata\n",
      "-rw-r--r-- 1 jovyan users   12 Jan 10 23:09 ..hoodie_partition_metadata.crc\n"
     ]
    }
   ],
   "source": [
    "!ls -lah analytics/dim_region/ruben/"
   ]
  },
  {
   "cell_type": "markdown",
   "id": "64d5d5e2-c6ff-4e17-8ba2-677bf8973b5b",
   "metadata": {},
   "source": [
    "Procedemos igualmente con todas las dimensiones que requieran actualización"
   ]
  },
  {
   "cell_type": "markdown",
   "id": "6192175a-413b-4e88-b2bb-c64afab2e86f",
   "metadata": {},
   "source": [
    "#### DIM_COUNTRY DELTA"
   ]
  },
  {
   "cell_type": "code",
   "execution_count": 96,
   "id": "6e556304-4630-4720-bd1e-5b431b2b517b",
   "metadata": {},
   "outputs": [
    {
     "name": "stdout",
     "output_type": "stream",
     "text": [
      "+------------+---------------+-----------+------------------+------------------+--------------+---------+--------------------+--------------------+\n",
      "|country_name|    region_name|description|          latitude|         longitude|continent_name|load_user|           load_time|         update_time|\n",
      "+------------+---------------+-----------+------------------+------------------+--------------+---------+--------------------+--------------------+\n",
      "|        laos|western pacific|       Laos|19.856270000000002|        102.495496|          asia|    ruben|2023-01-10 23:33:...|2023-01-10 23:33:...|\n",
      "|      guyana|       americas|     Guyana| 4.860416000000002|-58.93018000000001| south america|    ruben|2023-01-10 23:33:...|2023-01-10 23:33:...|\n",
      "|       japan|western pacific|      Japan|         36.204824|        138.252924|          asia|    ruben|2023-01-10 23:33:...|2023-01-10 23:33:...|\n",
      "|    portugal|         europe|   Portugal|           39.3999|           -8.2245|        europe|    ruben|2023-01-10 23:33:...|2023-01-10 23:33:...|\n",
      "|        chad|         africa|       Chad|           15.4542|           18.7322|        africa|    ruben|2023-01-10 23:33:...|2023-01-10 23:33:...|\n",
      "+------------+---------------+-----------+------------------+------------------+--------------+---------+--------------------+--------------------+\n",
      "only showing top 5 rows\n",
      "\n"
     ]
    }
   ],
   "source": [
    "dim_country_batch = new_batch.select(\n",
    "    lower('country_region').alias('country_name'),\n",
    "    lower('who_region').alias('region_name'),\n",
    "    col('country_region').alias('description'),\n",
    "    col('lat').alias('latitude'),\n",
    "    col('long').alias('longitude'),\n",
    ").withColumn(\n",
    "    'seq', \n",
    "    expr('row_number() over(partition by country_name, region_name order by latitude desc)')\n",
    ").filter('seq = 1').drop('seq')\n",
    "dim_country_batch = dim_country_batch.alias('a').join(\n",
    "    worldometer_data_reduced.alias('b'),\n",
    "    col('a.country_name') == lower('b.country_names'),\n",
    "    'left'\n",
    ").drop('country_names').select(col('a.*'), lower('continent_name').alias('continent_name'))\n",
    "dim_country_batch = addDefaultAuditColumns(dim_country_batch)\n",
    "dim_country_batch.show(5)"
   ]
  },
  {
   "cell_type": "code",
   "execution_count": 97,
   "id": "8fb0a798-2efe-43d6-9e1c-6c2690ac5521",
   "metadata": {},
   "outputs": [
    {
     "name": "stdout",
     "output_type": "stream",
     "text": [
      "+-------------------+--------------------+--------------------+----------------------+--------------------+-------------------+--------------------+-------------------+------------------+------------------+-----------------+--------------------+--------------------+---------+\n",
      "|_hoodie_commit_time|_hoodie_commit_seqno|  _hoodie_record_key|_hoodie_partition_path|   _hoodie_file_name|       country_name|         region_name|        description|          latitude|         longitude|   continent_name|           load_time|         update_time|load_user|\n",
      "+-------------------+--------------------+--------------------+----------------------+--------------------+-------------------+--------------------+-------------------+------------------+------------------+-----------------+--------------------+--------------------+---------+\n",
      "|  20230110231018825|20230110231018825...|country_name:laos...|                 ruben|0c7ae843-5eff-47a...|               laos|     western pacific|               Laos|19.856270000000002|        102.495496|             asia|2023-01-10 23:10:...|2023-01-10 23:10:...|    ruben|\n",
      "|  20230110231018825|20230110231018825...|country_name:guya...|                 ruben|0c7ae843-5eff-47a...|             guyana|            americas|             Guyana| 4.860416000000002|-58.93018000000001|    south america|2023-01-10 23:10:...|2023-01-10 23:10:...|    ruben|\n",
      "|  20230110231018825|20230110231018825...|country_name:japa...|                 ruben|0c7ae843-5eff-47a...|              japan|     western pacific|              Japan|         36.204824|        138.252924|             asia|2023-01-10 23:10:...|2023-01-10 23:10:...|    ruben|\n",
      "|  20230110231018825|20230110231018825...|country_name:port...|                 ruben|0c7ae843-5eff-47a...|           portugal|              europe|           Portugal|           39.3999|           -8.2245|           europe|2023-01-10 23:10:...|2023-01-10 23:10:...|    ruben|\n",
      "|  20230110231018825|20230110231018825...|country_name:chad...|                 ruben|0c7ae843-5eff-47a...|               chad|              africa|               Chad|           15.4542|           18.7322|           africa|2023-01-10 23:10:...|2023-01-10 23:10:...|    ruben|\n",
      "|  20230110231018825|20230110231018825...|country_name:burk...|                 ruben|0c7ae843-5eff-47a...|       burkina faso|              africa|       Burkina Faso|           12.2383|           -1.5616|           africa|2023-01-10 23:10:...|2023-01-10 23:10:...|    ruben|\n",
      "|  20230110231018825|20230110231018825...|country_name:mala...|                 ruben|0c7ae843-5eff-47a...|             malawi|              africa|             Malawi|          -13.2543|           34.3015|           africa|2023-01-10 23:10:...|2023-01-10 23:10:...|    ruben|\n",
      "|  20230110231018825|20230110231018825...|country_name:croa...|                 ruben|0c7ae843-5eff-47a...|            croatia|              europe|            Croatia|              45.1|              15.2|           europe|2023-01-10 23:10:...|2023-01-10 23:10:...|    ruben|\n",
      "|  20230110231018825|20230110231018825...|country_name:anti...|                 ruben|0c7ae843-5eff-47a...|antigua and barbuda|            americas|Antigua and Barbuda|           17.0608|          -61.7964|    north america|2023-01-10 23:10:...|2023-01-10 23:10:...|    ruben|\n",
      "|  20230110231018825|20230110231018825...|country_name:cong...|                 ruben|0c7ae843-5eff-47a...|   congo (kinshasa)|              africa|   Congo (Kinshasa)|           -4.0383|           21.7587|             null|2023-01-10 23:10:...|2023-01-10 23:10:...|    ruben|\n",
      "|  20230110231018825|20230110231018825...|country_name:fiji...|                 ruben|0c7ae843-5eff-47a...|               fiji|     western pacific|               Fiji|          -17.7134|           178.065|australia/oceania|2023-01-10 23:10:...|2023-01-10 23:10:...|    ruben|\n",
      "|  20230110231018825|20230110231018825...|country_name:beli...|                 ruben|0c7ae843-5eff-47a...|             belize|            americas|             Belize|           17.1899|          -88.4976|    north america|2023-01-10 23:10:...|2023-01-10 23:10:...|    ruben|\n",
      "|  20230110231018825|20230110231018825...|country_name:equa...|                 ruben|0c7ae843-5eff-47a...|  equatorial guinea|              africa|  Equatorial Guinea|            1.6508|           10.2679|           africa|2023-01-10 23:10:...|2023-01-10 23:10:...|    ruben|\n",
      "|  20230110231018825|20230110231018825...|country_name:neth...|                 ruben|0c7ae843-5eff-47a...|        netherlands|              europe|        Netherlands|           52.1326|            5.2913|           europe|2023-01-10 23:10:...|2023-01-10 23:10:...|    ruben|\n",
      "|  20230110231018825|20230110231018825...|country_name:cuba...|                 ruben|0c7ae843-5eff-47a...|               cuba|            americas|               Cuba|         21.521757|-77.78116700000002|    north america|2023-01-10 23:10:...|2023-01-10 23:10:...|    ruben|\n",
      "|  20230110231018825|20230110231018825...|country_name:irel...|                 ruben|0c7ae843-5eff-47a...|            ireland|              europe|            Ireland|           53.1424|           -7.6921|           europe|2023-01-10 23:10:...|2023-01-10 23:10:...|    ruben|\n",
      "|  20230110231018825|20230110231018825...|country_name:soma...|                 ruben|0c7ae843-5eff-47a...|            somalia|eastern mediterra...|            Somalia|          5.152149|         46.199616|           africa|2023-01-10 23:10:...|2023-01-10 23:10:...|    ruben|\n",
      "|  20230110231018825|20230110231018825...|country_name:taiw...|                 ruben|0c7ae843-5eff-47a...|            taiwan*|     western pacific|            Taiwan*|              23.7|             121.0|             null|2023-01-10 23:10:...|2023-01-10 23:10:...|    ruben|\n",
      "|  20230110231018825|20230110231018825...|country_name:cypr...|                 ruben|0c7ae843-5eff-47a...|             cyprus|              europe|             Cyprus|           35.1264|           33.4299|             asia|2023-01-10 23:10:...|2023-01-10 23:10:...|    ruben|\n",
      "|  20230110231018825|20230110231018825...|country_name:mona...|                 ruben|0c7ae843-5eff-47a...|             monaco|              europe|             Monaco|           43.7333|            7.4167|           europe|2023-01-10 23:10:...|2023-01-10 23:10:...|    ruben|\n",
      "+-------------------+--------------------+--------------------+----------------------+--------------------+-------------------+--------------------+-------------------+------------------+------------------+-----------------+--------------------+--------------------+---------+\n",
      "only showing top 20 rows\n",
      "\n"
     ]
    }
   ],
   "source": [
    "dim_country = (\n",
    "    spark\n",
    "    .read\n",
    "    .format('org.apache.hudi')\n",
    "    .load(\"/home/jovyan/work/analytics/dim_country/\")\n",
    ")\n",
    "dim_country.show()"
   ]
  },
  {
   "cell_type": "code",
   "execution_count": 102,
   "id": "2bb64dcf-c67a-48dd-96f0-21d63509f6fe",
   "metadata": {},
   "outputs": [
    {
     "name": "stdout",
     "output_type": "stream",
     "text": [
      "+-------------------+--------------------+-------------------+------------------+------------------+-----------------+--------------------+--------------------+---------+\n",
      "|       country_name|         region_name|        description|          latitude|         longitude|   continent_name|           load_time|         update_time|load_user|\n",
      "+-------------------+--------------------+-------------------+------------------+------------------+-----------------+--------------------+--------------------+---------+\n",
      "|               laos|     western pacific|               Laos|19.856270000000002|        102.495496|             asia|2023-01-10 23:10:...|2023-01-10 23:40:...|    ruben|\n",
      "|             guyana|            americas|             Guyana| 4.860416000000002|-58.93018000000001|    south america|2023-01-10 23:10:...|2023-01-10 23:40:...|    ruben|\n",
      "|              japan|     western pacific|              Japan|         36.204824|        138.252924|             asia|2023-01-10 23:10:...|2023-01-10 23:40:...|    ruben|\n",
      "|           portugal|              europe|           Portugal|           39.3999|           -8.2245|           europe|2023-01-10 23:10:...|2023-01-10 23:40:...|    ruben|\n",
      "|               chad|              africa|               Chad|           15.4542|           18.7322|           africa|2023-01-10 23:10:...|2023-01-10 23:40:...|    ruben|\n",
      "|       burkina faso|              africa|       Burkina Faso|           12.2383|           -1.5616|           africa|2023-01-10 23:10:...|2023-01-10 23:40:...|    ruben|\n",
      "|             malawi|              africa|             Malawi|          -13.2543|           34.3015|           africa|2023-01-10 23:10:...|2023-01-10 23:40:...|    ruben|\n",
      "|            croatia|              europe|            Croatia|              45.1|              15.2|           europe|2023-01-10 23:10:...|2023-01-10 23:40:...|    ruben|\n",
      "|antigua and barbuda|            americas|Antigua and Barbuda|           17.0608|          -61.7964|    north america|2023-01-10 23:10:...|2023-01-10 23:40:...|    ruben|\n",
      "|   congo (kinshasa)|              africa|   Congo (Kinshasa)|           -4.0383|           21.7587|             null|2023-01-10 23:10:...|2023-01-10 23:40:...|    ruben|\n",
      "|               fiji|     western pacific|               Fiji|          -17.7134|           178.065|australia/oceania|2023-01-10 23:10:...|2023-01-10 23:40:...|    ruben|\n",
      "|             belize|            americas|             Belize|           17.1899|          -88.4976|    north america|2023-01-10 23:10:...|2023-01-10 23:40:...|    ruben|\n",
      "|  equatorial guinea|              africa|  Equatorial Guinea|            1.6508|           10.2679|           africa|2023-01-10 23:10:...|2023-01-10 23:40:...|    ruben|\n",
      "|        netherlands|              europe|        Netherlands|           52.1326|            5.2913|           europe|2023-01-10 23:10:...|2023-01-10 23:40:...|    ruben|\n",
      "|               cuba|            americas|               Cuba|         21.521757|-77.78116700000002|    north america|2023-01-10 23:10:...|2023-01-10 23:40:...|    ruben|\n",
      "|            ireland|              europe|            Ireland|           53.1424|           -7.6921|           europe|2023-01-10 23:10:...|2023-01-10 23:40:...|    ruben|\n",
      "|            somalia|eastern mediterra...|            Somalia|          5.152149|         46.199616|           africa|2023-01-10 23:10:...|2023-01-10 23:40:...|    ruben|\n",
      "|            taiwan*|     western pacific|            Taiwan*|              23.7|             121.0|             null|2023-01-10 23:10:...|2023-01-10 23:40:...|    ruben|\n",
      "|             cyprus|              europe|             Cyprus|           35.1264|           33.4299|             asia|2023-01-10 23:10:...|2023-01-10 23:40:...|    ruben|\n",
      "|             monaco|              europe|             Monaco|           43.7333|            7.4167|           europe|2023-01-10 23:10:...|2023-01-10 23:40:...|    ruben|\n",
      "+-------------------+--------------------+-------------------+------------------+------------------+-----------------+--------------------+--------------------+---------+\n",
      "only showing top 20 rows\n",
      "\n"
     ]
    }
   ],
   "source": [
    "dim_country_delta = dim_country_batch.alias('a').join(\n",
    "    dim_country.alias('b'),\n",
    "    (col('a.region_name') == col('b.region_name')) &  (col('a.country_name') == col('b.country_name')),\n",
    "    'left'\n",
    ").select(\n",
    "    col('a.country_name'),\n",
    "    col('a.region_name'),\n",
    "    col('a.description'),\n",
    "    col('a.latitude'),\n",
    "    col('a.longitude'),\n",
    "    col('a.continent_name'),\n",
    "    coalesce(col('b.load_time'), col('a.load_time')).alias('load_time'),\n",
    "    expr('now()').alias('update_time'),\n",
    "    col('a.load_user')\n",
    ")\n",
    "dim_country_delta.show()"
   ]
  },
  {
   "cell_type": "code",
   "execution_count": 103,
   "id": "52282aad-55c0-4731-8061-7275a952552d",
   "metadata": {},
   "outputs": [],
   "source": [
    "hudiOptions['hoodie.datasource.write.recordkey.field'] = 'country_name,region_name'\n",
    "hudiOptions['hoodie.datasource.write.keygenerator.class'] = 'org.apache.hudi.keygen.ComplexKeyGenerator'\n",
    "dim_country_delta.write.format(\"org.apache.hudi\").options(**hudiOptions).mode(\"append\").save(\"/home/jovyan/work/analytics/dim_country\")"
   ]
  },
  {
   "cell_type": "markdown",
   "id": "f98312ea-8722-4c72-b12b-3237c29dc276",
   "metadata": {},
   "source": [
    "#### DIM_STATE DELTA"
   ]
  },
  {
   "cell_type": "code",
   "execution_count": 104,
   "id": "dbee983b-91f8-407d-9868-253005a0d61e",
   "metadata": {},
   "outputs": [
    {
     "name": "stdout",
     "output_type": "stream",
     "text": [
      "+----------------+------------+---------------+----------------+------------------+---------+--------------+---------+--------------------+--------------------+\n",
      "|      state_name|country_name|    region_name|     description|          latitude|longitude|continent_name|load_user|           load_time|         update_time|\n",
      "+----------------+------------+---------------+----------------+------------------+---------+--------------+---------+--------------------+--------------------+\n",
      "|british columbia|      canada|       americas|British Columbia|           53.7267|-127.6476| north america|    ruben|2023-01-10 23:50:...|2023-01-10 23:50:...|\n",
      "|           gansu|       china|western pacific|           Gansu|           35.7518| 104.2861|          null|    ruben|2023-01-10 23:50:...|2023-01-10 23:50:...|\n",
      "|        shandong|       china|western pacific|        Shandong|           36.3427| 118.1498|          null|    ruben|2023-01-10 23:50:...|2023-01-10 23:50:...|\n",
      "|    heilongjiang|       china|western pacific|    Heilongjiang|47.861999999999995| 127.7615|          null|    ruben|2023-01-10 23:50:...|2023-01-10 23:50:...|\n",
      "|           hebei|       china|western pacific|           Hebei|            39.549| 116.1306|          null|    ruben|2023-01-10 23:50:...|2023-01-10 23:50:...|\n",
      "+----------------+------------+---------------+----------------+------------------+---------+--------------+---------+--------------------+--------------------+\n",
      "only showing top 5 rows\n",
      "\n"
     ]
    }
   ],
   "source": [
    "dim_state_batch = new_batch.select(\n",
    "    lower('province_state').alias('state_name'),\n",
    "    lower('country_region').alias('country_name'),\n",
    "    lower('who_region').alias('region_name'),\n",
    "    col('province_state').alias('description'),\n",
    "    col('lat').alias('latitude'),\n",
    "    col('long').alias('longitude'),\n",
    ").withColumn(\n",
    "    'seq', \n",
    "    expr('row_number() over(partition by state_name, country_name, region_name order by latitude desc)')\n",
    ").filter('seq = 1').drop('seq').filter('state_name is not null')\n",
    "dim_state_batch = dim_state_batch.alias('a').join(\n",
    "    worldometer_data_reduced.alias('b'),\n",
    "    col('a.country_name') == lower('b.country_names'),\n",
    "    'left'\n",
    ").drop('country_names').select(col('a.*'), lower('continent_name').alias('continent_name'))\n",
    "dim_state_batch = addDefaultAuditColumns(dim_state_batch)\n",
    "dim_state_batch.show(5)"
   ]
  },
  {
   "cell_type": "code",
   "execution_count": 105,
   "id": "cb39de32-203e-4b35-bde0-e204d8c5ad62",
   "metadata": {},
   "outputs": [
    {
     "name": "stdout",
     "output_type": "stream",
     "text": [
      "+-------------------+--------------------+--------------------+----------------------+--------------------+------------------+--------------+---------------+------------------+------------------+---------+-----------------+--------------------+--------------------+---------+\n",
      "|_hoodie_commit_time|_hoodie_commit_seqno|  _hoodie_record_key|_hoodie_partition_path|   _hoodie_file_name|        state_name|  country_name|    region_name|       description|          latitude|longitude|   continent_name|           load_time|         update_time|load_user|\n",
      "+-------------------+--------------------+--------------------+----------------------+--------------------+------------------+--------------+---------------+------------------+------------------+---------+-----------------+--------------------+--------------------+---------+\n",
      "|  20230110231044571|20230110231044571...|state_name:britis...|                 ruben|8107e35d-a067-48f...|  british columbia|        canada|       americas|  British Columbia|           53.7267|-127.6476|    north america|2023-01-10 23:10:...|2023-01-10 23:10:...|    ruben|\n",
      "|  20230110231044571|20230110231044571...|state_name:gansu,...|                 ruben|8107e35d-a067-48f...|             gansu|         china|western pacific|             Gansu|           35.7518| 104.2861|             null|2023-01-10 23:10:...|2023-01-10 23:10:...|    ruben|\n",
      "|  20230110231044571|20230110231044571...|state_name:shando...|                 ruben|8107e35d-a067-48f...|          shandong|         china|western pacific|          Shandong|           36.3427| 118.1498|             null|2023-01-10 23:10:...|2023-01-10 23:10:...|    ruben|\n",
      "|  20230110231044571|20230110231044571...|state_name:heilon...|                 ruben|8107e35d-a067-48f...|      heilongjiang|         china|western pacific|      Heilongjiang|47.861999999999995| 127.7615|             null|2023-01-10 23:10:...|2023-01-10 23:10:...|    ruben|\n",
      "|  20230110231044571|20230110231044571...|state_name:hebei,...|                 ruben|8107e35d-a067-48f...|             hebei|         china|western pacific|             Hebei|            39.549| 116.1306|             null|2023-01-10 23:10:...|2023-01-10 23:10:...|    ruben|\n",
      "|  20230110231044571|20230110231044571...|state_name:northe...|                 ruben|8107e35d-a067-48f...|northern territory|     australia|western pacific|Northern Territory|          -12.4634| 130.8456|australia/oceania|2023-01-10 23:10:...|2023-01-10 23:10:...|    ruben|\n",
      "|  20230110231044571|20230110231044571...|state_name:sint m...|                 ruben|8107e35d-a067-48f...|      sint maarten|   netherlands|         europe|      Sint Maarten|           18.0425| -63.0548|           europe|2023-01-10 23:10:...|2023-01-10 23:10:...|    ruben|\n",
      "|  20230110231044571|20230110231044571...|state_name:zhejia...|                 ruben|8107e35d-a067-48f...|          zhejiang|         china|western pacific|          Zhejiang|           29.1832| 120.0934|             null|2023-01-10 23:10:...|2023-01-10 23:10:...|    ruben|\n",
      "|  20230110231044571|20230110231044571...|state_name:xinjia...|                 ruben|8107e35d-a067-48f...|          xinjiang|         china|western pacific|          Xinjiang|           41.1129|  85.2401|             null|2023-01-10 23:10:...|2023-01-10 23:10:...|    ruben|\n",
      "|  20230110231044571|20230110231044571...|state_name:nova s...|                 ruben|8107e35d-a067-48f...|       nova scotia|        canada|       americas|       Nova Scotia|44.681999999999995| -63.7443|    north america|2023-01-10 23:10:...|2023-01-10 23:10:...|    ruben|\n",
      "|  20230110231044571|20230110231044571...|state_name:albert...|                 ruben|8107e35d-a067-48f...|           alberta|        canada|       americas|           Alberta|           53.9333|-116.5765|    north america|2023-01-10 23:10:...|2023-01-10 23:10:...|    ruben|\n",
      "|  20230110231044571|20230110231044571...|state_name:guadel...|                 ruben|8107e35d-a067-48f...|        guadeloupe|        france|         europe|        Guadeloupe|            16.265|  -61.551|           europe|2023-01-10 23:10:...|2023-01-10 23:10:...|    ruben|\n",
      "|  20230110231044571|20230110231044571...|state_name:channe...|                 ruben|8107e35d-a067-48f...|   channel islands|united kingdom|         europe|   Channel Islands|           49.3723|  -2.3644|             null|2023-01-10 23:10:...|2023-01-10 23:10:...|    ruben|\n",
      "|  20230110231044571|20230110231044571...|state_name:isle o...|                 ruben|8107e35d-a067-48f...|       isle of man|united kingdom|         europe|       Isle of Man|           54.2361|  -4.5481|             null|2023-01-10 23:10:...|2023-01-10 23:10:...|    ruben|\n",
      "|  20230110231044571|20230110231044571...|state_name:fujian...|                 ruben|8107e35d-a067-48f...|            fujian|         china|western pacific|            Fujian|           26.0789| 117.9874|             null|2023-01-10 23:10:...|2023-01-10 23:10:...|    ruben|\n",
      "|  20230110231044571|20230110231044571...|state_name:tianji...|                 ruben|8107e35d-a067-48f...|           tianjin|         china|western pacific|           Tianjin|           39.3054|  117.323|             null|2023-01-10 23:10:...|2023-01-10 23:10:...|    ruben|\n",
      "|  20230110231044571|20230110231044571...|state_name:guizho...|                 ruben|8107e35d-a067-48f...|           guizhou|         china|western pacific|           Guizhou|           26.8154| 106.8748|             null|2023-01-10 23:10:...|2023-01-10 23:10:...|    ruben|\n",
      "|  20230110231044571|20230110231044571...|state_name:saskat...|                 ruben|8107e35d-a067-48f...|      saskatchewan|        canada|       americas|      Saskatchewan|           52.9399|-106.4509|    north america|2023-01-10 23:10:...|2023-01-10 23:10:...|    ruben|\n",
      "|  20230110231044571|20230110231044571...|state_name:shangh...|                 ruben|8107e35d-a067-48f...|          shanghai|         china|western pacific|          Shanghai|31.201999999999998| 121.4491|             null|2023-01-10 23:10:...|2023-01-10 23:10:...|    ruben|\n",
      "|  20230110231044571|20230110231044571...|state_name:curaca...|                 ruben|8107e35d-a067-48f...|           curacao|   netherlands|         europe|           Curacao|           12.1696|   -68.99|           europe|2023-01-10 23:10:...|2023-01-10 23:10:...|    ruben|\n",
      "+-------------------+--------------------+--------------------+----------------------+--------------------+------------------+--------------+---------------+------------------+------------------+---------+-----------------+--------------------+--------------------+---------+\n",
      "only showing top 20 rows\n",
      "\n"
     ]
    }
   ],
   "source": [
    "dim_state = (\n",
    "    spark\n",
    "    .read\n",
    "    .format('org.apache.hudi')\n",
    "    .load(\"/home/jovyan/work/analytics/dim_state/\")\n",
    ")\n",
    "dim_state.show()"
   ]
  },
  {
   "cell_type": "code",
   "execution_count": 107,
   "id": "07011b3f-4d25-4663-9f51-dab5624924f5",
   "metadata": {},
   "outputs": [
    {
     "name": "stdout",
     "output_type": "stream",
     "text": [
      "+------------------+--------------+---------------+------------------+------------------+---------+-----------------+--------------------+--------------------+---------+\n",
      "|        state_name|  country_name|    region_name|       description|          latitude|longitude|   continent_name|           load_time|         update_time|load_user|\n",
      "+------------------+--------------+---------------+------------------+------------------+---------+-----------------+--------------------+--------------------+---------+\n",
      "|  british columbia|        canada|       americas|  British Columbia|           53.7267|-127.6476|    north america|2023-01-10 23:10:...|2023-01-10 23:55:...|    ruben|\n",
      "|             gansu|         china|western pacific|             Gansu|           35.7518| 104.2861|             null|2023-01-10 23:10:...|2023-01-10 23:55:...|    ruben|\n",
      "|          shandong|         china|western pacific|          Shandong|           36.3427| 118.1498|             null|2023-01-10 23:10:...|2023-01-10 23:55:...|    ruben|\n",
      "|      heilongjiang|         china|western pacific|      Heilongjiang|47.861999999999995| 127.7615|             null|2023-01-10 23:10:...|2023-01-10 23:55:...|    ruben|\n",
      "|             hebei|         china|western pacific|             Hebei|            39.549| 116.1306|             null|2023-01-10 23:10:...|2023-01-10 23:55:...|    ruben|\n",
      "|northern territory|     australia|western pacific|Northern Territory|          -12.4634| 130.8456|australia/oceania|2023-01-10 23:10:...|2023-01-10 23:55:...|    ruben|\n",
      "|      sint maarten|   netherlands|         europe|      Sint Maarten|           18.0425| -63.0548|           europe|2023-01-10 23:10:...|2023-01-10 23:55:...|    ruben|\n",
      "|          zhejiang|         china|western pacific|          Zhejiang|           29.1832| 120.0934|             null|2023-01-10 23:10:...|2023-01-10 23:55:...|    ruben|\n",
      "|          xinjiang|         china|western pacific|          Xinjiang|           41.1129|  85.2401|             null|2023-01-10 23:10:...|2023-01-10 23:55:...|    ruben|\n",
      "|       nova scotia|        canada|       americas|       Nova Scotia|44.681999999999995| -63.7443|    north america|2023-01-10 23:10:...|2023-01-10 23:55:...|    ruben|\n",
      "|           alberta|        canada|       americas|           Alberta|           53.9333|-116.5765|    north america|2023-01-10 23:10:...|2023-01-10 23:55:...|    ruben|\n",
      "|        guadeloupe|        france|         europe|        Guadeloupe|            16.265|  -61.551|           europe|2023-01-10 23:10:...|2023-01-10 23:55:...|    ruben|\n",
      "|   channel islands|united kingdom|         europe|   Channel Islands|           49.3723|  -2.3644|             null|2023-01-10 23:10:...|2023-01-10 23:55:...|    ruben|\n",
      "|       isle of man|united kingdom|         europe|       Isle of Man|           54.2361|  -4.5481|             null|2023-01-10 23:10:...|2023-01-10 23:55:...|    ruben|\n",
      "|            fujian|         china|western pacific|            Fujian|           26.0789| 117.9874|             null|2023-01-10 23:10:...|2023-01-10 23:55:...|    ruben|\n",
      "|           tianjin|         china|western pacific|           Tianjin|           39.3054|  117.323|             null|2023-01-10 23:10:...|2023-01-10 23:55:...|    ruben|\n",
      "|           guizhou|         china|western pacific|           Guizhou|           26.8154| 106.8748|             null|2023-01-10 23:10:...|2023-01-10 23:55:...|    ruben|\n",
      "|      saskatchewan|        canada|       americas|      Saskatchewan|           52.9399|-106.4509|    north america|2023-01-10 23:10:...|2023-01-10 23:55:...|    ruben|\n",
      "|          shanghai|         china|western pacific|          Shanghai|31.201999999999998| 121.4491|             null|2023-01-10 23:10:...|2023-01-10 23:55:...|    ruben|\n",
      "|           curacao|   netherlands|         europe|           Curacao|           12.1696|   -68.99|           europe|2023-01-10 23:10:...|2023-01-10 23:55:...|    ruben|\n",
      "+------------------+--------------+---------------+------------------+------------------+---------+-----------------+--------------------+--------------------+---------+\n",
      "only showing top 20 rows\n",
      "\n"
     ]
    }
   ],
   "source": [
    "dim_state_delta = dim_state_batch.alias('a').join(\n",
    "    dim_state.alias('b'),\n",
    "    (col('a.region_name') == col('b.region_name')) & (col('a.country_name') == col('b.country_name')) & (col('a.state_name') == col('b.state_name')),\n",
    "    'left'\n",
    ").select(\n",
    "    col('a.state_name'),\n",
    "    col('a.country_name'),\n",
    "    col('a.region_name'),\n",
    "    col('a.description'),\n",
    "    col('a.latitude'),\n",
    "    col('a.longitude'),\n",
    "    col('a.continent_name'),\n",
    "    coalesce(col('b.load_time'), col('a.load_time')).alias('load_time'),\n",
    "    expr('now()').alias('update_time'),\n",
    "    col('a.load_user')\n",
    ")\n",
    "dim_state_delta.show()"
   ]
  },
  {
   "cell_type": "code",
   "execution_count": 142,
   "id": "3fc1e561-906f-4f64-8834-8bed0fee1b1d",
   "metadata": {},
   "outputs": [],
   "source": [
    "hudiOptions['hoodie.datasource.write.recordkey.field'] = 'state_name,country_name,region_name'\n",
    "hudiOptions['hoodie.datasource.write.keygenerator.class'] = 'org.apache.hudi.keygen.ComplexKeyGenerator'\n",
    "dim_state_delta.write.format(\"org.apache.hudi\").options(**hudiOptions).mode(\"append\").save(\"/home/jovyan/work/analytics/dim_state\")"
   ]
  },
  {
   "cell_type": "markdown",
   "id": "90e5dd09-a91a-4ec6-a155-01212566efa9",
   "metadata": {},
   "source": [
    "#### FCT_REPORT INCREMENTAL"
   ]
  },
  {
   "cell_type": "code",
   "execution_count": 122,
   "id": "f0b6673e-d275-4337-8475-814bf86dc99e",
   "metadata": {},
   "outputs": [],
   "source": [
    "fct_report = spark.read.parquet(f'analytics/fct_report/date={date_before}')"
   ]
  },
  {
   "cell_type": "code",
   "execution_count": 126,
   "id": "3c0f26ee-64a9-4a21-a6ec-2d7d303bf5c0",
   "metadata": {},
   "outputs": [
    {
     "name": "stdout",
     "output_type": "stream",
     "text": [
      "+------------------+--------------+------------------+-------------------+---------+------+---------+------+--------------------+----------+\n",
      "|    province_state|country_region|               lat|               long|confirmed|deaths|recovered|active|          who_region|      date|\n",
      "+------------------+--------------+------------------+-------------------+---------+------+---------+------+--------------------+----------+\n",
      "|              null|      Dominica|            15.415|            -61.371|        0|     0|        0|     0|            Americas|2020-01-23|\n",
      "|          Shanghai|         China|31.201999999999998|           121.4491|       16|     0|        0|    16|     Western Pacific|2020-01-23|\n",
      "|   New South Wales|     Australia|          -33.8688|           151.2093|        0|     0|        0|     0|     Western Pacific|2020-01-23|\n",
      "|     French Guiana|        France|            3.9339|           -53.1258|        0|     0|        0|     0|              Europe|2020-01-23|\n",
      "|              null|       Liberia|6.4280550000000005|          -9.429499|        0|     0|        0|     0|              Africa|2020-01-23|\n",
      "|              null|      Barbados|           13.1939|           -59.5432|        0|     0|        0|     0|            Americas|2020-01-23|\n",
      "|              null|          Mali|         17.570692| -3.996166000000001|        0|     0|        0|     0|              Africa|2020-01-23|\n",
      "|          Liaoning|         China|           41.2956|           122.6085|        3|     0|        0|     3|     Western Pacific|2020-01-23|\n",
      "|  British Columbia|        Canada|           53.7267|          -127.6476|        0|     0|        0|     0|            Americas|2020-01-23|\n",
      "|             Hebei|         China|            39.549|           116.1306|        1|     1|        0|     0|     Western Pacific|2020-01-23|\n",
      "|        Montserrat|United Kingdom|         16.742498|-62.187366000000004|        0|     0|        0|     0|              Europe|2020-01-23|\n",
      "|              null|      Slovakia|            48.669|             19.699|        0|     0|        0|     0|              Europe|2020-01-23|\n",
      "|              null|      Honduras|              15.2|           -86.2419|        0|     0|        0|     0|            Americas|2020-01-23|\n",
      "|             Tibet|         China|           31.6927|            88.0924|        0|     0|        0|     0|     Western Pacific|2020-01-23|\n",
      "|              null|       Andorra|           42.5063|             1.5218|        0|     0|        0|     0|              Europe|2020-01-23|\n",
      "|              null|         Libya|           26.3351|          17.228331|        0|     0|        0|     0|Eastern Mediterra...|2020-01-23|\n",
      "|Northern Territory|     Australia|          -12.4634|           130.8456|        0|     0|        0|     0|     Western Pacific|2020-01-23|\n",
      "|           Tianjin|         China|           39.3054|            117.323|        4|     0|        0|     4|     Western Pacific|2020-01-23|\n",
      "|              null|    Costa Rica|            9.7489|           -83.7534|        0|     0|        0|     0|            Americas|2020-01-23|\n",
      "|              null|    Kazakhstan|           48.0196|            66.9237|        0|     0|        0|     0|              Europe|2020-01-23|\n",
      "+------------------+--------------+------------------+-------------------+---------+------+---------+------+--------------------+----------+\n",
      "only showing top 20 rows\n",
      "\n"
     ]
    }
   ],
   "source": [
    "new_batch.show()"
   ]
  },
  {
   "cell_type": "code",
   "execution_count": 145,
   "id": "0be3b47a-ada2-4239-87ba-4a17b46f15d6",
   "metadata": {},
   "outputs": [
    {
     "name": "stdout",
     "output_type": "stream",
     "text": [
      "+------------------+--------------+--------------------+---------+------+---------+------+---------+----------+-----------+------------+---------------+----------------+----------+---------+--------------------+--------------------+\n",
      "|        state_name|  country_name|         region_name|confirmed|deaths|recovered|active|new_cases|new_deaths|new_recoved|deaths_cases|recovered_cases|deaths_recovered|      date|load_user|           load_time|         update_time|\n",
      "+------------------+--------------+--------------------+---------+------+---------+------+---------+----------+-----------+------------+---------------+----------------+----------+---------+--------------------+--------------------+\n",
      "|              null|      dominica|            americas|        0|     0|        0|     0|        0|         0|          0|        null|           null|            null|2020-01-23|    ruben|2023-01-11 06:10:...|2023-01-11 06:10:...|\n",
      "|          shanghai|         china|     western pacific|       16|     0|        0|    16|        7|         0|          0|        0.00|           0.00|            null|2020-01-23|    ruben|2023-01-11 06:10:...|2023-01-11 06:10:...|\n",
      "|   new south wales|     australia|     western pacific|        0|     0|        0|     0|        0|         0|          0|        null|           null|            null|2020-01-23|    ruben|2023-01-11 06:10:...|2023-01-11 06:10:...|\n",
      "|     french guiana|        france|              europe|        0|     0|        0|     0|        0|         0|          0|        null|           null|            null|2020-01-23|    ruben|2023-01-11 06:10:...|2023-01-11 06:10:...|\n",
      "|              null|       liberia|              africa|        0|     0|        0|     0|        0|         0|          0|        null|           null|            null|2020-01-23|    ruben|2023-01-11 06:10:...|2023-01-11 06:10:...|\n",
      "|              null|      barbados|            americas|        0|     0|        0|     0|        0|         0|          0|        null|           null|            null|2020-01-23|    ruben|2023-01-11 06:10:...|2023-01-11 06:10:...|\n",
      "|              null|          mali|              africa|        0|     0|        0|     0|        0|         0|          0|        null|           null|            null|2020-01-23|    ruben|2023-01-11 06:10:...|2023-01-11 06:10:...|\n",
      "|          liaoning|         china|     western pacific|        3|     0|        0|     3|        1|         0|          0|        0.00|           0.00|            null|2020-01-23|    ruben|2023-01-11 06:10:...|2023-01-11 06:10:...|\n",
      "|  british columbia|        canada|            americas|        0|     0|        0|     0|        0|         0|          0|        null|           null|            null|2020-01-23|    ruben|2023-01-11 06:10:...|2023-01-11 06:10:...|\n",
      "|             hebei|         china|     western pacific|        1|     1|        0|     0|        0|         1|          0|      100.00|           0.00|            null|2020-01-23|    ruben|2023-01-11 06:10:...|2023-01-11 06:10:...|\n",
      "|        montserrat|united kingdom|              europe|        0|     0|        0|     0|        0|         0|          0|        null|           null|            null|2020-01-23|    ruben|2023-01-11 06:10:...|2023-01-11 06:10:...|\n",
      "|              null|      slovakia|              europe|        0|     0|        0|     0|        0|         0|          0|        null|           null|            null|2020-01-23|    ruben|2023-01-11 06:10:...|2023-01-11 06:10:...|\n",
      "|              null|      honduras|            americas|        0|     0|        0|     0|        0|         0|          0|        null|           null|            null|2020-01-23|    ruben|2023-01-11 06:10:...|2023-01-11 06:10:...|\n",
      "|             tibet|         china|     western pacific|        0|     0|        0|     0|        0|         0|          0|        null|           null|            null|2020-01-23|    ruben|2023-01-11 06:10:...|2023-01-11 06:10:...|\n",
      "|              null|       andorra|              europe|        0|     0|        0|     0|        0|         0|          0|        null|           null|            null|2020-01-23|    ruben|2023-01-11 06:10:...|2023-01-11 06:10:...|\n",
      "|              null|         libya|eastern mediterra...|        0|     0|        0|     0|        0|         0|          0|        null|           null|            null|2020-01-23|    ruben|2023-01-11 06:10:...|2023-01-11 06:10:...|\n",
      "|northern territory|     australia|     western pacific|        0|     0|        0|     0|        0|         0|          0|        null|           null|            null|2020-01-23|    ruben|2023-01-11 06:10:...|2023-01-11 06:10:...|\n",
      "|           tianjin|         china|     western pacific|        4|     0|        0|     4|        0|         0|          0|        0.00|           0.00|            null|2020-01-23|    ruben|2023-01-11 06:10:...|2023-01-11 06:10:...|\n",
      "|              null|    costa rica|            americas|        0|     0|        0|     0|        0|         0|          0|        null|           null|            null|2020-01-23|    ruben|2023-01-11 06:10:...|2023-01-11 06:10:...|\n",
      "|              null|    kazakhstan|              europe|        0|     0|        0|     0|        0|         0|          0|        null|           null|            null|2020-01-23|    ruben|2023-01-11 06:10:...|2023-01-11 06:10:...|\n",
      "+------------------+--------------+--------------------+---------+------+---------+------+---------+----------+-----------+------------+---------------+----------------+----------+---------+--------------------+--------------------+\n",
      "only showing top 20 rows\n",
      "\n"
     ]
    }
   ],
   "source": [
    "incremental_fact = new_batch.alias('a').join(\n",
    "    fct_report.alias('b'),\n",
    "    (lower(col('a.province_state')) == col('b.state_name')) & (lower(col('a.country_region')) == col('b.country_name')) & (lower(col('a.who_region')) == col('b.region_name')),\n",
    "    'left'\n",
    ").select(\n",
    "    lower(col('a.province_state')).alias('state_name'),\n",
    "    lower(col('a.country_region')).alias('country_name'),\n",
    "    lower(col('a.who_region')).alias('region_name'),\n",
    "    col('a.confirmed'),\n",
    "    col('a.deaths'),\n",
    "    col('a.recovered'),\n",
    "    col('a.active'),\n",
    "    (col('a.confirmed') - coalesce(col('b.confirmed'), lit(0))).alias('new_cases'),\n",
    "    (col('a.deaths') - coalesce(col('b.deaths'), lit(0))).alias('new_deaths'),\n",
    "    (col('a.recovered') - coalesce(col('b.recovered'), lit(0))).alias('new_recoved'),\n",
    "    (col('a.deaths')/col('a.confirmed')*100).cast('decimal(6,2)').alias('deaths_cases'),\n",
    "    (col('a.recovered')/col('a.confirmed')*100).cast('decimal(6,2)').alias('recovered_cases'),\n",
    "    (col('a.deaths')/col('a.recovered')*100).cast('decimal(6,2)').alias('deaths_recovered'),\n",
    "    col('a.date')\n",
    ")\n",
    "incremental_fact = addDefaultAuditColumns(incremental_fact)\n",
    "incremental_fact.show()"
   ]
  },
  {
   "cell_type": "code",
   "execution_count": 146,
   "id": "6b9dcd51-1665-4e21-a50d-adc5227ceb66",
   "metadata": {},
   "outputs": [],
   "source": [
    "incremental_fact.write.parquet(\n",
    "            'analytics/fct_report/',\n",
    "            mode='overwrite',\n",
    "            compression='snappy',\n",
    "            partitionBy='date'\n",
    "        )"
   ]
  },
  {
   "cell_type": "code",
   "execution_count": null,
   "id": "74521887-2beb-4e39-9df5-3afdad7dfa58",
   "metadata": {},
   "outputs": [],
   "source": []
  },
  {
   "cell_type": "code",
   "execution_count": null,
   "id": "e5abb4be-19ab-4e79-a9fb-c405f365f079",
   "metadata": {},
   "outputs": [],
   "source": []
  },
  {
   "cell_type": "code",
   "execution_count": null,
   "id": "5f952c83-f1c2-413f-9472-2d7359050d78",
   "metadata": {},
   "outputs": [],
   "source": []
  },
  {
   "cell_type": "code",
   "execution_count": null,
   "id": "de618481-09f3-4514-925b-e79280ac08f4",
   "metadata": {},
   "outputs": [],
   "source": []
  }
 ],
 "metadata": {
  "kernelspec": {
   "display_name": "Python 3 (ipykernel)",
   "language": "python",
   "name": "python3"
  },
  "language_info": {
   "codemirror_mode": {
    "name": "ipython",
    "version": 3
   },
   "file_extension": ".py",
   "mimetype": "text/x-python",
   "name": "python",
   "nbconvert_exporter": "python",
   "pygments_lexer": "ipython3",
   "version": "3.10.4"
  }
 },
 "nbformat": 4,
 "nbformat_minor": 5
}
